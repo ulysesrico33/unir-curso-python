{
 "cells": [
  {
   "cell_type": "markdown",
   "metadata": {},
   "source": [
    "## Ejercicio 1\n",
    "\n",
    "Completa la siguiente función para que dado un número de documento nacional de identidad (DNI), se devuelva una letra. Esta letra se obtiene calculando el resto del DNI entre 23 y a partir de ese valor asignarle una letra de la siguiente tabla:\n",
    "\n",
    "![Tabla letras de control DNI](img/letras.png)\n",
    "\n",
    "El valor DNI será un número entero y la letra debe ser una cadena de carateres que contendrá una única letra en mayúsculas."
   ]
  },
  {
   "cell_type": "code",
   "execution_count": 13,
   "metadata": {
    "scrolled": true
   },
   "outputs": [],
   "source": [
    "def ejercicio_1(dni):\n",
    "    # Escribe aquí el código del ejercicio\n",
    "    # DNI ejemplo : 42478731\n",
    "    case=dni%23\n",
    "    if case==0:\n",
    "        letra=\"T\"\n",
    "    elif case==1:\n",
    "        letra=\"R\"\n",
    "    elif case==2:\n",
    "        letra=\"W\"  \n",
    "    elif case==3:\n",
    "        letra=\"A\"\n",
    "    elif case==4:\n",
    "        letra=\"G\"  \n",
    "    elif case==5:\n",
    "        letra=\"M\"      \n",
    "    elif case==6:\n",
    "        letra=\"Y\"\n",
    "    elif case==7:\n",
    "        letra=\"F\"  \n",
    "    elif case==8:\n",
    "        letra=\"P\"  \n",
    "    elif case==9:\n",
    "        letra=\"D\"\n",
    "    elif case==10:\n",
    "        letra=\"X\"  \n",
    "    elif case==11:\n",
    "        letra=\"B\" \n",
    "    elif case==12:\n",
    "        letra=\"N\"      \n",
    "    elif case==13:\n",
    "        letra=\"J\"\n",
    "    elif case==14:\n",
    "        letra=\"Z\"  \n",
    "    elif case==15:\n",
    "        letra=\"S\"  \n",
    "    elif case==16:\n",
    "        letra=\"Q\"\n",
    "    elif case==17:\n",
    "        letra=\"V\"  \n",
    "    elif case==18:\n",
    "        letra=\"H\"\n",
    "    elif case==19:\n",
    "        letra=\"L\"      \n",
    "    elif case==20:\n",
    "        letra=\"C\"\n",
    "    elif case==21:\n",
    "        letra=\"K\"  \n",
    "    elif case==22:\n",
    "        letra=\"E\"       \n",
    "    return letra"
   ]
  },
  {
   "cell_type": "markdown",
   "metadata": {},
   "source": [
    "## Ejercicio 2\n",
    "\n",
    "Completa la siguiente función para que dado el precio de un producto, se calcule y se devuelva el precio total que debe pagar el cliente, es decir, incluyenfo el IVA (21% sobre el precio del producto). El precio total deberá ser únicamente el valor del precio, es decir, no debe contener el símbolo de la moneda. Redondee la salida al segundo decimal en caso necesario.\n"
   ]
  },
  {
   "cell_type": "code",
   "execution_count": 1,
   "metadata": {
    "scrolled": true
   },
   "outputs": [
    {
     "data": {
      "text/plain": [
       "60.5"
      ]
     },
     "execution_count": 1,
     "metadata": {},
     "output_type": "execute_result"
    }
   ],
   "source": [
    "def ejercicio_2(precio):\n",
    "    # Escribe aquí el código del ejercicio\n",
    "    precio_total=round(precio*1.21,2)\n",
    "    return precio_total"
   ]
  },
  {
   "cell_type": "markdown",
   "metadata": {},
   "source": [
    "## Ejercicio 3\n",
    "\n",
    "Completa la siguiente función para que dado el diámetro de una circunferencia, se calcule el área del círculo que contiene dicha circunferencia. Como valor de PI se usará $3.1415$."
   ]
  },
  {
   "cell_type": "code",
   "execution_count": 2,
   "metadata": {},
   "outputs": [
    {
     "data": {
      "text/plain": [
       "78.53750000000001"
      ]
     },
     "execution_count": 2,
     "metadata": {},
     "output_type": "execute_result"
    }
   ],
   "source": [
    "def ejercicio_3(diametro):\n",
    "    # Escribe aquí el código del ejercicio\n",
    "    pi=3.1415\n",
    "    area=pi*((diametro/2)**2)\n",
    "    return area"
   ]
  },
  {
   "cell_type": "markdown",
   "metadata": {},
   "source": [
    "## Ejercicio 4\n",
    "\n",
    "Completar la función para que dado dos números entéros <n> y <m> dos números enteros, se calcula el cociente y el resto de hacer la división entera entre n y m."
   ]
  },
  {
   "cell_type": "code",
   "execution_count": 9,
   "metadata": {},
   "outputs": [
    {
     "data": {
      "text/plain": [
       "(46, 4)"
      ]
     },
     "execution_count": 9,
     "metadata": {},
     "output_type": "execute_result"
    }
   ],
   "source": [
    "def ejercicio_4(n, m):\n",
    "    # Escribe tu programa aquí\n",
    "    cociente=int(n/m)\n",
    "    resto=int(n%m)\n",
    "    return cociente, resto"
   ]
  },
  {
   "cell_type": "markdown",
   "metadata": {},
   "source": [
    "## Ejercicio 5\n",
    "\n",
    "Completar la función para que dado el número de unidades que ha comprado un usuario de 2 productos diferentes, devolver el peso total del paquete para enviar su compra por mensajería. El peso de cada unidad del producto1 es de 147 unidades y el peso de cada unidad del producto2 es de 2400 unidades. La función debe devolver únicamente el peso total."
   ]
  },
  {
   "cell_type": "code",
   "execution_count": 14,
   "metadata": {},
   "outputs": [],
   "source": [
    "def ejercicio_5(producto1, producto2):\n",
    "    # Escribe tu programa aquí\n",
    "    pesoProducto1=producto1*147\n",
    "    pesoProducto2=producto2*2400\n",
    "    peso_total=pesoProducto1+pesoProducto2\n",
    "    return peso_total"
   ]
  }
 ],
 "metadata": {
  "kernelspec": {
   "display_name": "Python 3 (ipykernel)",
   "language": "python",
   "name": "python3"
  },
  "language_info": {
   "codemirror_mode": {
    "name": "ipython",
    "version": 3
   },
   "file_extension": ".py",
   "mimetype": "text/x-python",
   "name": "python",
   "nbconvert_exporter": "python",
   "pygments_lexer": "ipython3",
   "version": "3.10.11"
  }
 },
 "nbformat": 4,
 "nbformat_minor": 4
}
