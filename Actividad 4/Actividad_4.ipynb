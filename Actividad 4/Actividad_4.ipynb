{
 "cells": [
  {
   "cell_type": "markdown",
   "metadata": {},
   "source": [
    "## Ejercicio 1\n",
    "\n",
    "Crea una función llamada ejercicio1, que recibe la ruta donde se encuentra un dataset y devuelve una DataFrame con los datos que hay en el dataset. Para comprobar esta función utiliza el dataset `titanic.csv` que se incluye en esta actividad."
   ]
  },
  {
   "cell_type": "code",
   "execution_count": 3,
   "metadata": {},
   "outputs": [],
   "source": [
    "import pandas as pd \n",
    "\n",
    "ds_titanic=\"./titanic.csv\"\n",
    "\n",
    "def ejercicio1(rutaDataset):\n",
    "    data = pd.read_csv(rutaDataset)\n",
    "    return data"
   ]
  },
  {
   "cell_type": "markdown",
   "metadata": {},
   "source": [
    "## Ejercicio 2\n",
    "\n",
    "Crea otra función llamada ejercicio2. Esta función recibe un único argumento que es un dataframe. En concreto debe recibir el dataframe que se ha obtenido de leer el dataset `titanic.csv`. Esta función devolverá otro dataset que incluya únicamente a los pasajeros menores de 35 años y que viajaban en 3ª clase."
   ]
  },
  {
   "cell_type": "code",
   "execution_count": 4,
   "metadata": {},
   "outputs": [],
   "source": [
    "def ejercicio2(df):\n",
    "    df_menores35 = df[(df['Age'] < 35) & (df['Pclass'] == 3)]\n",
    "    \n",
    "    return df_menores35\n",
    "    \n",
    "#dfmenores35 = ejercicio2(ejercicio1(ds_titanic))\n",
    "#print(len(dfmenores35))    "
   ]
  },
  {
   "cell_type": "markdown",
   "metadata": {},
   "source": [
    "## Ejercicio 3\n",
    "\n",
    "Crea una función llamada ejercicio3, que recibiendo como argumento el dataframe del dataset `titanic.csv`, calcule el porcentaje de persona que sobrevieron. Redondee el resultado al segundo decimal."
   ]
  },
  {
   "cell_type": "code",
   "execution_count": 5,
   "metadata": {},
   "outputs": [],
   "source": [
    "def ejercicio3(df):\n",
    "    totalPasajeros = len(df)\n",
    "    porcentajeSobrevivientes = 0\n",
    "    dfSobrevivientes = df[df['Survived']>0]\n",
    "    sobrevivientes = len(dfSobrevivientes)\n",
    "    porcentajeSobrevivientes = round((sobrevivientes*100)/totalPasajeros,2)\n",
    "    \n",
    "    return porcentajeSobrevivientes\n",
    "\n",
    "#ejercicio3(ejercicio1(ds_titanic))  "
   ]
  },
  {
   "cell_type": "markdown",
   "metadata": {},
   "source": [
    "## Ejercicio 4\n",
    "\n",
    "Implementa una función llamada ejercicio4 que recibiendo el dataframe con los datos del Titanic, devuelva en una tupla el porcentaje de hombres y mujeres que viajaban en el Titanic, redondeados al segundo decimal."
   ]
  },
  {
   "cell_type": "code",
   "execution_count": 6,
   "metadata": {},
   "outputs": [],
   "source": [
    "def ejercicio4(df):\n",
    "    totalPasajeros = len(df)\n",
    "    totalHombres = len(df[df['Sex']=='male'])\n",
    "    porcentajeHombres = (totalHombres*100)/totalPasajeros\n",
    "    porcentajeMujeres = 100 - porcentajeHombres\n",
    "    porcentajeHombres = round(porcentajeHombres,2)\n",
    "    porcentajeMujeres = round(porcentajeMujeres,2)\n",
    "    \n",
    "    return (porcentajeHombres,porcentajeMujeres)\n",
    "\n",
    "#ejercicio4(ejercicio1(ds_titanic))  "
   ]
  },
  {
   "cell_type": "markdown",
   "metadata": {},
   "source": [
    "## Ejercicio 5\n",
    "\n",
    "\n",
    "Implementa una función llamada ejercicio5 que recibiendo el dataframe con los datos del Titanic, devuelva en una lista el número de pasajeros que viajaban en 1ª, 2ª y 3ª clase."
   ]
  },
  {
   "cell_type": "code",
   "execution_count": 13,
   "metadata": {},
   "outputs": [],
   "source": [
    "def ejercicio5(df):\n",
    "    lsPasajeros=[]\n",
    "    for i in range(1,4):\n",
    "        lsPasajeros.append(len(df[df['Pclass'] == i]))\n",
    "\n",
    "    return lsPasajeros \n",
    "\n",
    "#ejercicio5(ejercicio1(ds_titanic))      "
   ]
  },
  {
   "cell_type": "code",
   "execution_count": null,
   "metadata": {},
   "outputs": [],
   "source": []
  }
 ],
 "metadata": {
  "kernelspec": {
   "display_name": "Python 3 (ipykernel)",
   "language": "python",
   "name": "python3"
  },
  "language_info": {
   "codemirror_mode": {
    "name": "ipython",
    "version": 3
   },
   "file_extension": ".py",
   "mimetype": "text/x-python",
   "name": "python",
   "nbconvert_exporter": "python",
   "pygments_lexer": "ipython3",
   "version": "3.11.1"
  }
 },
 "nbformat": 4,
 "nbformat_minor": 4
}
